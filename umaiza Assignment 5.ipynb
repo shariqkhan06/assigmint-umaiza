{
 "cells": [
  {
   "cell_type": "markdown",
   "id": "02c93f40-2462-4008-89ac-402b9c4e637c",
   "metadata": {},
   "source": [
    "Q1. An e-commerce store stores information about its products in a nested dictionary. The outer dictionary uses product IDs as keys, and the inner dictionary stores product details like name, category, price, and stock quantity. products = { 101: {\"name\": \"Laptop\", \"category\": \"Electronics\", \"price\": 1200, \"stock\": 50}, 102: {\"name\": \"Shirt\", \"category\": \"Apparel\", \"price\": 25, \"stock\": 200}, 103: {\"name\": \"Coffee Maker\", \"category\": \"Home Appliances\", \"price\": 80, \"stock\": 30} }\n",
    "\n",
    "• Increase the stock of the \"Shirt\" product (add 50 more units) using increment/decrement operators\n",
    "\n",
    "• Add a new product (e.g., \"Smartphone\")\n",
    "\n",
    "Expected Output:\n",
    "\n",
    "{101: {'name': 'Laptop', 'category': 'Electronics', 'price': 1200, 'stock': 50}, 102: {'name': 'Shirt', 'category': 'Apparel', 'price': 25, 'stock': 250}, 103: {'name': 'Coffee Maker', 'category': 'Home Appliances', 'price': 80, 'stock': 30}}\n",
    "{101: {'name': 'Laptop', 'category': 'Electronics', 'price': 1200, 'stock': 50}, 102: {'name': 'Shirt', 'category': 'Apparel', 'price': 25, 'stock': 250}, 103: {'name': 'Coffee Maker', 'category': 'Home Appliances', 'price': 80, 'stock': 30}, 104: {'name': 'Smartphone', 'category': 'Electronics', 'price': 800, 'stock': 100}}"
   ]
  },
  {
   "cell_type": "code",
   "execution_count": 5,
   "id": "36581eaf-6d80-4b3b-9bc5-a9c8d4d70d68",
   "metadata": {},
   "outputs": [
    {
     "name": "stdout",
     "output_type": "stream",
     "text": [
      "{101: {'name': 'Laptop', 'category': 'Electronics', 'price': 1200, 'stock': 50}, 102: {'name': 'Shirt', 'category': 'Apparel', 'price': 25, 'stock': 250}, 103: {'name': 'Coffee Maker', 'category': 'Home Appliances', 'price': 80, 'stock': 30}, 104: {'name': 'Smartphone', 'category': 'Electronics', 'price': 800, 'stock': 100}}\n"
     ]
    }
   ],
   "source": [
    "products = { 101: {\"name\": \"Laptop\", \"category\": \"Electronics\", \"price\": 1200, \"stock\": 50},\n",
    "            102: {\"name\": \"Shirt\", \"category\": \"Apparel\", \"price\": 25, \"stock\": 200},\n",
    "            103: {\"name\": \"Coffee Maker\", \"category\": \"Home Appliances\", \"price\": 80, \"stock\": 30} \n",
    "           }\n",
    "products[102][\"stock\"] +=50\n",
    "products[104] = {\n",
    "    \"name\": \"Smartphone\",\n",
    "    \"category\": \"Electronics\",\n",
    "    \"price\": 800,\n",
    "    \"stock\": 100\n",
    "}\n",
    "print(products)"
   ]
  },
  {
   "cell_type": "markdown",
   "id": "38374151-536f-489a-a18b-c52649f20110",
   "metadata": {},
   "source": [
    "Q2. You are given a list that contains some duplicate items. Remove the duplicates by converting the list to a set. Final output should be in list\n",
    "\n",
    "shopping_list = [\"apple\", \"banana\", \"apple\", \"orange\", \"banana\", \"grape\"]\n",
    "\n",
    "Expected Output:\n",
    "['apple', 'grape', 'banana', 'orange']"
   ]
  },
  {
   "cell_type": "code",
   "execution_count": 1,
   "id": "031c7561-a48c-4966-8850-11b75b5cf293",
   "metadata": {},
   "outputs": [],
   "source": [
    "shopping_list = [\"apple\", \"banana\", \"apple\", \"orange\", \"banana\",\"grape\"]"
   ]
  },
  {
   "cell_type": "code",
   "execution_count": 2,
   "id": "a18a34ef-270c-4965-820f-7ccad47e6ad6",
   "metadata": {},
   "outputs": [],
   "source": [
    "unique_items = list(set(shopping_list))"
   ]
  },
  {
   "cell_type": "code",
   "execution_count": 3,
   "id": "33bffd0f-d8b6-4377-b866-a8045c9229c8",
   "metadata": {},
   "outputs": [
    {
     "name": "stdout",
     "output_type": "stream",
     "text": [
      "['apple', 'orange', 'banana', 'grape']\n"
     ]
    }
   ],
   "source": [
    "print(unique_items)"
   ]
  },
  {
   "cell_type": "markdown",
   "id": "6024ec14-7264-4e36-bcea-da9e8044e483",
   "metadata": {},
   "source": [
    "Q3. You are managing a list of students enrolled in two different courses. You need to perform various set operations to understand the student enrollment. Task: Create two sets: one for students in \"Course A\" and one for students in \"Course B\". Find the students who are in \"Course A\" but not in \"Course B\" (difference). Find students who are only in one of the two courses (symmetric difference). course_a = {\"John\", \"Alice\", \"Bob\", \"David\"} course_b = {\"Alice\", \"Eve\", \"Charlie\", \"David\"}\n",
    "\n",
    "Using set methods\n",
    "\n",
    "• Find students who are in Course A but not in Course B (difference)\n",
    "\n",
    "• Find students who are only in one of the two courses (symmetric difference)\n",
    "\n",
    "Expected Output:\n",
    "\n",
    "Students in Course A but not in Course B: {'Bob', 'John'}\n",
    "\n",
    "Students only in one of the two courses: {'Eve', 'John', 'Bob', 'Charlie'}\n"
   ]
  },
  {
   "cell_type": "code",
   "execution_count": 4,
   "id": "3c946297-d85f-4ddc-9fdc-3aa442899156",
   "metadata": {},
   "outputs": [
    {
     "name": "stdout",
     "output_type": "stream",
     "text": [
      "Students in Course A but not in Course B: {'Bob', 'John'}\n",
      "Students only in one of the two courses: {'John', 'Eve', 'Charlie', 'Bob'}\n"
     ]
    }
   ],
   "source": [
    "course_a = {\"John\", \"Alice\", \"Bob\", \"David\"}\n",
    "course_b = {\"Alice\", \"Eve\", \"Charlie\", \"David\"}\n",
    "only_a = course_a.difference(course_b)\n",
    "print(\"Students in Course A but not in Course B:\", only_a)\n",
    "only_one = course_a.symmetric_difference(course_b)\n",
    "print(\"Students only in one of the two courses:\", only_one)"
   ]
  },
  {
   "cell_type": "markdown",
   "id": "41da432a-3038-4868-803e-fe40f55c9983",
   "metadata": {},
   "source": [
    "Q4. Write a Python program to store and display the details of a book.\n",
    "\n",
    "The program should ask the user to input the following information:\n",
    "\n",
    "Title of the book\n",
    "\n",
    "Author’s name\n",
    "\n",
    "Year of publication\n",
    "\n",
    "Price of the booK\n",
    "\n",
    "Store the entered details in a tuple.\n",
    "\n",
    "Finally, display the book details in a proper format as shown below:\n",
    "\n",
    "Expected Output:\n",
    "\n",
    "Title: Harry Potter\n",
    "\n",
    "Author: JK Rowlings\n",
    "\n",
    "Year of Publication: 2000\n",
    "\n",
    "Price: $180.0"
   ]
  },
  {
   "cell_type": "code",
   "execution_count": 7,
   "id": "0a57c58f-bce7-4d9e-b4b2-cdbeab8d1c52",
   "metadata": {},
   "outputs": [
    {
     "name": "stdin",
     "output_type": "stream",
     "text": [
      "Enter the title of the book:  Harry potter\n",
      "Enter the author's name:  JK Rwolings\n",
      "Enter the year of publication:  2000\n",
      "Enter the price of the book:  180.0\n"
     ]
    },
    {
     "name": "stdout",
     "output_type": "stream",
     "text": [
      "\n",
      "---Book Details---\n",
      "Title: Harry potter\n",
      "Author: JK Rwolings\n",
      "Year of Publication: 2000\n",
      "Price: $ 180.0\n"
     ]
    }
   ],
   "source": [
    "title = input(\"Enter the title of the book: \")\n",
    "author = input(\"Enter the author's name: \")\n",
    "year = int(input(\"Enter the year of publication: \"))\n",
    "price = float(input(\"Enter the price of the book: \"))\n",
    "book = (title, author, year, price)\n",
    "print(\"\\n---Book Details---\")\n",
    "print(\"Title:\", book[0])\n",
    "print(\"Author:\", book[1])\n",
    "print(\"Year of Publication:\", book[2])\n",
    "print(\"Price: $\", book[3])"
   ]
  },
  {
   "cell_type": "markdown",
   "id": "48347612-e98e-4b10-b9e7-69dd64a27cd3",
   "metadata": {},
   "source": [
    "Q5. Write a program to check if a user’s chosen subject is available in the list of offered subjects.\n",
    "\n",
    "Instructions:\n",
    "\n",
    "Given a list of subjects, ask the user to input a subject.\n",
    "\n",
    "Display whether the subject is available or not.\n",
    "\n",
    "Expected Output:\n",
    "\n",
    "Enter the subject you are interested in:  art\n",
    "\n",
    "art is available."
   ]
  },
  {
   "cell_type": "code",
   "execution_count": 2,
   "id": "631e6f31-462f-4330-9208-c6ecdc2abd3e",
   "metadata": {},
   "outputs": [],
   "source": [
    "subjects = [\"Math\", \"English\", \"art\", \"Computer\", \"History\"]"
   ]
  },
  {
   "cell_type": "code",
   "execution_count": 3,
   "id": "5c696be2-28de-4f74-88e2-616505b31a49",
   "metadata": {},
   "outputs": [
    {
     "name": "stdin",
     "output_type": "stream",
     "text": [
      "Enter the subject you want to check:  art\n"
     ]
    },
    {
     "name": "stdout",
     "output_type": "stream",
     "text": [
      " art is available.\n"
     ]
    }
   ],
   "source": [
    "user_subjects = input(\"Enter the subject you want to check: \")\n",
    "if user_subjects in subjects:\n",
    "    print(f\" {user_subjects} is available.\")\n",
    "else:\n",
    "    print(f\" {user_subjects} is not available.\")"
   ]
  },
  {
   "cell_type": "markdown",
   "id": "11ffc986-b30a-4cd9-8416-44c6da950d00",
   "metadata": {},
   "source": [
    "Q6. Write a Python program that asks the user to enter a number.\n",
    "\n",
    "If the number is greater than 0, print \"Positive\".\n",
    "\n",
    "If the number is less than 0, print \"Negative\".\n",
    "\n",
    "If the number is exactly 0, print \"Zero\".\n",
    "\n",
    "Expected Output:\n",
    "\n",
    "Enter a number:  2\n",
    "\n",
    "The number is Positive\n",
    "\n",
    "---\n",
    "\n",
    "Enter a number:  0\n",
    "\n",
    "The number is Zero\n",
    "\n",
    "---\n",
    "\n",
    "Enter a number:  -1\n",
    "\n",
    "The number is Negative"
   ]
  },
  {
   "cell_type": "code",
   "execution_count": 1,
   "id": "c29945ad-ca28-4af5-afd8-383b7aa5503b",
   "metadata": {},
   "outputs": [
    {
     "name": "stdin",
     "output_type": "stream",
     "text": [
      "Enter a number: 2\n"
     ]
    },
    {
     "name": "stdout",
     "output_type": "stream",
     "text": [
      "This number is Positive\n"
     ]
    }
   ],
   "source": [
    "num = int(input(\"Enter a number:\"))\n",
    "if num > 0:\n",
    "    print(\"This number is Positive\")\n",
    "elif num < 0:\n",
    "    print(\"This number is Negative\")\n",
    "else:\n",
    "    print(\"This number is  Zero\")"
   ]
  },
  {
   "cell_type": "markdown",
   "id": "2c3a8b52-5013-4999-bdfe-5248b957ad74",
   "metadata": {},
   "source": [
    "Q7. Write a Python program that simulates a simple login system.\n",
    "\n",
    "The correct username is 'admin' and the correct password is 'admin@123'\n",
    "\n",
    "The program should take username and password as input from the user.\n",
    "\n",
    "It should check the input and display messages according to the following conditions:\n",
    "\n",
    "- If both username and password are correct → print \"Login Successful\".\n",
    "\n",
    "- If username is wrong but password is correct → print \"Invalid Username\".\n",
    "\n",
    "- If username is correct but password is wrong → print \"Invalid Password\".\n",
    "\n",
    "- If both username and password are wrong → print \"Invalid Username and Password\"."
   ]
  },
  {
   "cell_type": "code",
   "execution_count": 2,
   "id": "5a16a634-8978-4275-b016-bfe7204a61bc",
   "metadata": {},
   "outputs": [
    {
     "name": "stdin",
     "output_type": "stream",
     "text": [
      "Enter username admin\n",
      "Enter password admin@123\n"
     ]
    },
    {
     "name": "stdout",
     "output_type": "stream",
     "text": [
      "login successful\n"
     ]
    }
   ],
   "source": [
    "correct_username = \"admin\"\n",
    "correct_password = \"admin@123\"\n",
    "username = input(\"Enter username\")\n",
    "password = input(\"Enter password\")\n",
    "if username == correct_username and password == correct_password:\n",
    "    print(\"login successful\")\n",
    "elif username != correct_username and password == correct_password:\n",
    "    print(\"invalid username\")\n",
    "elif username == correct_username and password != correct_password:\n",
    "    print(\"invalid password\")\n",
    "else:\n",
    "    print(\"invalid username and password\")"
   ]
  },
  {
   "cell_type": "markdown",
   "id": "5c799583-5206-449c-b370-4007ec0382f2",
   "metadata": {},
   "source": [
    "Q8.\n",
    "\n",
    "student_details = {\n",
    "    \"Ali\": {\"age\": 20, \"grade\": \"A\", \"city\": \"Karachi\"},\n",
    "    \"Sara\": {\"age\": 21, \"grade\": \"B\", \"city\": \"Lahore\"},\n",
    "    \"Omar\": {\"age\": 19, \"grade\": \"A\", \"city\": \"Islamabad\"},\n",
    "    \"Hina\": {\"age\": 22, \"grade\": \"C\", \"city\": \"Faisalabad\"}\n",
    "}\n",
    "\n",
    "- Add a new student using method:\n",
    "  \"Zara\": {\"age\": 20, \"grade\": \"B\", \"city\": \"Multan\"}\n",
    "\n",
    "- Remove a student \"Omer\" using method\n",
    "\n",
    "Expected Output:\n",
    "\n",
    "{'Ali': {'age': 20, 'grade': 'A', 'city': 'Karachi'}, 'Sara': {'age': 21, 'grade': 'B', 'city': 'Lahore'}, 'Hina': {'age': 22, 'grade': 'C', 'city': 'Faisalabad'}, 'Zara': {'age': 20, 'grade': 'B', 'city': 'Multan'}}\n",
    "  "
   ]
  },
  {
   "cell_type": "code",
   "execution_count": 3,
   "id": "3854a1db-01eb-478b-b3f3-7e2aa32ff458",
   "metadata": {},
   "outputs": [
    {
     "name": "stdout",
     "output_type": "stream",
     "text": [
      "{'Ali': {'age': 20, 'grade': 'A', 'city': 'Karachi'}, 'Sara': {'age': 21, 'grade': 'B', 'city': 'Lahore'}, 'Hina': {'age': 22, 'grade': 'C', 'city': 'Faisalabad'}, 'Zara': {'age': 20, 'grade': 'B', 'city': 'Multan'}}\n"
     ]
    }
   ],
   "source": [
    "student_details = {\n",
    "    \"Ali\": {\"age\": 20, \"grade\": \"A\", \"city\": \"Karachi\"},\n",
    "    \"Sara\": {\"age\": 21, \"grade\": \"B\", \"city\": \"Lahore\"},\n",
    "    \"Omar\": {\"age\": 19, \"grade\": \"A\", \"city\": \"Islamabad\"},\n",
    "    \"Hina\": {\"age\": 22, \"grade\": \"C\", \"city\": \"Faisalabad\"}\n",
    "}\n",
    "student_details.update({\n",
    "    \"Zara\": {\"age\": 20, \"grade\": \"B\", \"city\": \"Multan\"}\n",
    "})\n",
    "\n",
    "student_details.pop(\"Omer\", None)  \n",
    "\n",
    "student_details.pop(\"Omar\", None) \n",
    "\n",
    "print(student_details)"
   ]
  },
  {
   "cell_type": "markdown",
   "id": "f5c1e4f9-1b24-4c6e-b94d-10e4511df8d8",
   "metadata": {},
   "source": [
    "Q9. Write program to check a person’s eligibility for a loan based on age, credit score, and income. This time, the eligibility criteria will be:\n",
    "\n",
    "The person must be 18 years or older. The person must have a credit score of 650 or higher. The person must have an annual income of at least 30000 dollars If the person has a credit score of 700 or higher, they may still be eligible with an income of 25000 dollars or more.\n",
    "\n",
    "Expected Output:\n",
    "\n",
    "Enter your age:  22\n",
    "\n",
    "Enter your credit score:  888\n",
    "\n",
    "Enter your annual income: $ 800000\n",
    "\n",
    "You are eligible for the loan!\n",
    "\n",
    "---\n",
    "\n",
    "Enter your age:  15\n",
    "\n",
    "Enter your credit score:  800\n",
    "\n",
    "Enter your annual income: $ 900000\n",
    "\n",
    "You are not eligible for the loan due to age.\n",
    "\n",
    "---\n",
    "\n",
    "Enter your age:  35\n",
    "\n",
    "Enter your credit score:  99\n",
    "\n",
    "Enter your annual income: $ 900000\n",
    "\n",
    "You are not eligible for the loan due to low credit score."
   ]
  },
  {
   "cell_type": "code",
   "execution_count": 5,
   "id": "900a3f5e-872f-482e-b46e-aadffb646cc1",
   "metadata": {},
   "outputs": [
    {
     "name": "stdin",
     "output_type": "stream",
     "text": [
      "Enetr your age:  22\n",
      "Enter your credit score:  888\n",
      "Enter your annual incom in dollers:  800000\n"
     ]
    },
    {
     "name": "stdout",
     "output_type": "stream",
     "text": [
      "You are eligible for the loan!\n"
     ]
    }
   ],
   "source": [
    "age = int(input(\"Enetr your age: \"))\n",
    "credit_score = int(input(\"Enter your credit score: \"))\n",
    "income = float(input(\"Enter your annual incom in dollers: \"))\n",
    "\n",
    "if age < 18:\n",
    "    print(\"Not Eligible: Age must be 18 or older.\")\n",
    "elif credit_score >= 700 and income >= 25000:\n",
    "     print(\"You are eligible for the loan!\")\n",
    "elif credit_score >= 650 and income >= 30000:\n",
    "    print(\"You are eligible for the loan!\")\n",
    "else:\n",
    "    print(\"Not Eligible for Loan\")"
   ]
  },
  {
   "cell_type": "markdown",
   "id": "2b4c034e-a69a-4124-a1ea-497bce36c7a9",
   "metadata": {},
   "source": [
    "Q10. Write a Python program to check whether the entered letter is a vowel, a consonant, or invalid input.\n",
    "\n",
    "The program should take a single character as input. If the character is a vowel (a, e, i, o, u in both upper and lower case), it will print \"Vowel\". If it is an alphabet but not a vowel, it will print \"Consonant\". Otherwise, it will print \"Please enter valid alphabet\".\n",
    "\n",
    "Expected Output:\n",
    "\n",
    "Enter a single letter:  a\n",
    "\n",
    "a is a Vowel\n",
    "\n",
    "---\n",
    "\n",
    "Enter a single letter:  E\n",
    "\n",
    "E is a Vowel\n",
    "\n",
    "---\n",
    "\n",
    "Enter a single letter:  z\n",
    "\n",
    "z is a Consonant\n",
    "\n",
    "---\n",
    "\n",
    "Enter a single letter:  7\n",
    "\n",
    "Please enter valid alphabet\n"
   ]
  },
  {
   "cell_type": "code",
   "execution_count": 8,
   "id": "5b859405-6edc-416a-a21f-5f2af5ccbef5",
   "metadata": {},
   "outputs": [
    {
     "name": "stdin",
     "output_type": "stream",
     "text": [
      "Enter a single letter:  a\n"
     ]
    },
    {
     "name": "stdout",
     "output_type": "stream",
     "text": [
      "a is a vowel\n"
     ]
    }
   ],
   "source": [
    "ch = input(\"Enter a single letter: \")\n",
    "if len(ch) == 1 and ch.isalpha():\n",
    "    vowels = \"aeiouAEIOU\"\n",
    "    if ch1 in vowels:\n",
    "        print(f\"{ch} is a vowel\")\n",
    "    else:\n",
    "        print(f\"{ch} is a consonant\")\n",
    "else:\n",
    "    print(\"please enter valid alphabet\")"
   ]
  },
  {
   "cell_type": "code",
   "execution_count": null,
   "id": "17752b4c-7dcf-47c3-809b-d7c34e3ae440",
   "metadata": {},
   "outputs": [],
   "source": []
  }
 ],
 "metadata": {
  "kernelspec": {
   "display_name": "Python 3 (ipykernel)",
   "language": "python",
   "name": "python3"
  },
  "language_info": {
   "codemirror_mode": {
    "name": "ipython",
    "version": 3
   },
   "file_extension": ".py",
   "mimetype": "text/x-python",
   "name": "python",
   "nbconvert_exporter": "python",
   "pygments_lexer": "ipython3",
   "version": "3.13.5"
  }
 },
 "nbformat": 4,
 "nbformat_minor": 5
}
