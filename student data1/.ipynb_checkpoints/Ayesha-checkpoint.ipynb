{
 "cells": [
  {
   "cell_type": "code",
   "execution_count": 5,
   "id": "59820c74-8a4a-4cb1-a25c-e6362c07d4e2",
   "metadata": {},
   "outputs": [],
   "source": [
    "import csv"
   ]
  },
  {
   "cell_type": "code",
   "execution_count": 6,
   "id": "785b1ed4-8a11-4f1c-83ae-e68b073497fe",
   "metadata": {},
   "outputs": [
    {
     "data": {
      "text/plain": [
       "<_io.TextIOWrapper name='student data.csv' mode='r' encoding='cp1252'>"
      ]
     },
     "execution_count": 6,
     "metadata": {},
     "output_type": "execute_result"
    }
   ],
   "source": [
    "open_file = open('student data.csv', mode='r')\n",
    "open_file"
   ]
  },
  {
   "cell_type": "code",
   "execution_count": 7,
   "id": "e665fa32-665d-46ff-bb9d-09a866ea9a23",
   "metadata": {},
   "outputs": [
    {
     "data": {
      "text/plain": [
       "<_csv.reader at 0x236c29f4e20>"
      ]
     },
     "execution_count": 7,
     "metadata": {},
     "output_type": "execute_result"
    }
   ],
   "source": [
    "reader = csv.reader(open_file)\n",
    "reader"
   ]
  },
  {
   "cell_type": "code",
   "execution_count": 8,
   "id": "7f0b6d41-35d2-457d-8662-17288f8c5bd1",
   "metadata": {},
   "outputs": [
    {
     "data": {
      "text/plain": [
       "[['roll no', 'Name', 'Chemistry', 'Physics', 'Math'],\n",
       " ['101', 'Aliza', '50', '23', '87'],\n",
       " ['102', 'Fareed', '45', '24', '88'],\n",
       " ['103', 'Basit', '46', '25', '89'],\n",
       " ['104', 'Abdullah', '47', '26', '90'],\n",
       " ['105', 'Ali', '48', '27', '67'],\n",
       " ['106', 'Mubashir', '49', '28', '68'],\n",
       " ['107', 'Waleed', '50', '29', '69'],\n",
       " ['108', 'Mansoor', '51', '30', '70'],\n",
       " ['109', 'Zain', '52', '31', '71'],\n",
       " ['110', 'Mohsin', '53', '67', '72'],\n",
       " ['111', 'Shahmeer', '54', '68', '73'],\n",
       " ['112', 'Rao', '55', '69', '74'],\n",
       " ['113', 'Aurangzeb', '56', '70', '75'],\n",
       " ['114', 'Zeeshan', '57', '71', '76'],\n",
       " ['115', 'Hamna', '58', '72', '77'],\n",
       " ['116', 'Hamza', '59', '73', '78'],\n",
       " ['117', 'Khalid', '60', '74', '79'],\n",
       " ['118', 'Behroz', '61', '75', '80'],\n",
       " ['119', 'Justin', '62', '76', '81'],\n",
       " ['120', 'Danish', '63', '77', '82'],\n",
       " ['121', 'Kainat', '64', '78', '83'],\n",
       " ['122', 'Sameer', '65', '79', '84'],\n",
       " ['123', 'Raza', '66', '80', '85'],\n",
       " ['124', 'Kumar', '67', '81', '86'],\n",
       " ['125', 'Komal', '68', '82', '87'],\n",
       " ['126', 'Erum', '69', '83', '88'],\n",
       " ['127', 'Faiza', '70', '84', '89'],\n",
       " ['128', 'Saeed', '71', '85', '90'],\n",
       " ['129', 'Waqar', '72', '86', '91'],\n",
       " ['130', 'Wali', '73', '87', '92'],\n",
       " ['131', 'Wajid', '74', '88', '93'],\n",
       " ['132', 'Waseeb', '75', '89', '94'],\n",
       " ['133', 'Shiza', '76', '90', '95'],\n",
       " ['134', 'Shabina', '77', '91', '96'],\n",
       " ['135', 'Shazain', '78', '55', '97'],\n",
       " ['136', 'Lubna', '79', '61', '98'],\n",
       " ['137', 'Laiba', '80', '88', '78'],\n",
       " ['138', 'Khursheed', '81', '56', '45'],\n",
       " ['139', 'Ali', '82', '89', '46'],\n",
       " ['140', 'Aiza', '83', '45', '89'],\n",
       " ['141', 'Aiman', '84', '92', '78'],\n",
       " ['142', 'Yasmeen', '85', '36', '56'],\n",
       " ['143', 'Tasbeel', '86', '78', '78'],\n",
       " ['144', 'Laraib', '87', '56', '54'],\n",
       " ['145', 'Saleem', '88', '78', '78'],\n",
       " ['146', 'Bismil', '89', '89', '46'],\n",
       " ['147', 'Batool', '90', '56', '79'],\n",
       " ['148', 'Iqra', '91', '33', '46'],\n",
       " ['149', 'Zarnish', '92', '78', '45'],\n",
       " ['150', 'Zara', '83', '45', '56']]"
      ]
     },
     "execution_count": 8,
     "metadata": {},
     "output_type": "execute_result"
    }
   ],
   "source": [
    "data = list(reader)\n",
    "data"
   ]
  },
  {
   "cell_type": "code",
   "execution_count": 9,
   "id": "7e5062df-3e27-467e-a18f-c01e07c25a05",
   "metadata": {},
   "outputs": [
    {
     "data": {
      "text/plain": [
       "['roll no', 'Name', 'Chemistry', 'Physics', 'Math']"
      ]
     },
     "execution_count": 9,
     "metadata": {},
     "output_type": "execute_result"
    }
   ],
   "source": [
    "header = data[0]\n",
    "header"
   ]
  },
  {
   "cell_type": "code",
   "execution_count": 10,
   "id": "965f75df-8eef-45f7-bdb4-84e763b73720",
   "metadata": {},
   "outputs": [],
   "source": [
    "\n",
    "data = [\n",
    "['roll no', 'Name', 'Chemistry', 'Physics', 'Math'],\n",
    " ['101', 'Aliza', '50', '23', '87'],\n",
    " ['102', 'Fareed', '45', '24', '88'],\n",
    " ['103', 'Basit', '46', '25', '89'],\n",
    " ['104', 'Abdullah', '47', '26', '90'],\n",
    " ['105', 'Ali', '48', '27', '67'],\n",
    " ['106', 'Mubashir', '49', '28', '68'],\n",
    " ['107', 'Waleed', '50', '29', '69'],\n",
    " ['108', 'Mansoor', '51', '30', '70'],\n",
    " ['109', 'Zain', '52', '31', '71'],\n",
    " ['110', 'Mohsin', '53', '67', '72'],\n",
    " ['111', 'Shahmeer', '54', '68', '73'],\n",
    " ['112', 'Rao', '55', '69', '74'],\n",
    " ['113', 'Aurangzeb', '56', '70', '75'],\n",
    " ['114', 'Zeeshan', '57', '71', '76'],\n",
    " ['115', 'Hamna', '58', '72', '77'],\n",
    " ['116', 'Hamza', '59', '73', '78'],\n",
    " ['117', 'Khalid', '60', '74', '79'],\n",
    " ['118', 'Behroz', '61', '75', '80'],\n",
    " ['119', 'Justin', '62', '76', '81'],\n",
    " ['120', 'Danish', '63', '77', '82'],\n",
    " ['121', 'Kainat', '64', '78', '83'],\n",
    " ['122', 'Sameer', '65', '79', '84'],\n",
    " ['123', 'Raza', '66', '80', '85'],\n",
    " ['124', 'Kumar', '67', '81', '86'],\n",
    " ['125', 'Komal', '68', '82', '87'],\n",
    " ['126', 'Erum', '69', '83', '88'],\n",
    " ['127', 'Faiza', '70', '84', '89'],\n",
    " ['128', 'Saeed', '71', '85', '90'],\n",
    " ['129', 'Waqar', '72', '86', '91'],\n",
    " ['130', 'Wali', '73', '87', '92'],\n",
    " ['131', 'Wajid', '74', '88', '93'],\n",
    " ['132', 'Waseeb', '75', '89', '94'],\n",
    " ['133', 'Shiza', '76', '90', '95'],\n",
    " ['134', 'Shabina', '77', '91', '96'],\n",
    " ['135', 'Shazain', '78', '55', '97'],\n",
    " ['136', 'Lubna', '79', '61', '98'],\n",
    " ['137', 'Laiba', '80', '88', '78'],\n",
    " ['138', 'Khursheed', '81', '56', '45'],\n",
    " ['139', 'Ali', '82', '89', '46'],\n",
    " ['140', 'Aiza', '83', '45', '89'],\n",
    " ['141', 'Aiman', '84', '92', '78'],\n",
    " ['142', 'Yasmeen', '85', '36', '56'],\n",
    " ['143', 'Tasbeel', '86', '78', '78'],\n",
    " ['144', 'Laraib', '87', '56', '54'],\n",
    " ['145', 'Saleem', '88', '78', '78'],\n",
    " ['146', 'Bismil', '89', '89', '46'],\n",
    " ['147', 'Batool', '90', '56', '79'],\n",
    " ['148', 'Iqra', '91', '33', '46'],\n",
    " ['149', 'Zarnish', '92', '78', '45'],\n",
    " ['150', 'Zara', '83', '45', '56']\n",
    "]\n",
    "\n"
   ]
  },
  {
   "cell_type": "code",
   "execution_count": 11,
   "id": "284e46ac-1e17-4998-a6c8-e5e4cb006398",
   "metadata": {},
   "outputs": [],
   "source": [
    "\n",
    "def calculate_grade(percentage):\n",
    "    if percentage >= 80:\n",
    "        return 'A'\n",
    "    elif percentage >= 70:\n",
    "        return 'B'\n",
    "    elif percentage >= 60:\n",
    "        return 'C'\n",
    "    elif percentage >= 50:\n",
    "        return 'D'\n",
    "    else:\n",
    "        return 'F'"
   ]
  },
  {
   "cell_type": "code",
   "execution_count": 12,
   "id": "de7dac4d-d982-4fd7-9c6a-56c748c9c264",
   "metadata": {},
   "outputs": [],
   "source": [
    "output_file = \"grades.csv\""
   ]
  },
  {
   "cell_type": "code",
   "execution_count": 13,
   "id": "078e13f0-3862-4c69-9c50-ee88b196d684",
   "metadata": {},
   "outputs": [
    {
     "name": "stdout",
     "output_type": "stream",
     "text": [
      " New CSV file 'grades.csv' created successfully with grades!\n"
     ]
    }
   ],
   "source": [
    "\n",
    "with open(output_file, \"w\", newline=\"\") as file:\n",
    "    writer = csv.writer(file)\n",
    "\n",
    "    \n",
    "    writer.writerow(['Roll No', 'Name', 'Chemistry', 'Physics', 'Math', 'Percentage', 'Grade'])\n",
    "\n",
    "    \n",
    "    for row in data[1:]:\n",
    "        chem = int(row[2])\n",
    "        phy = int(row[3])\n",
    "        math = int(row[4])\n",
    "\n",
    "        percentage = (chem + phy + math) / 3\n",
    "        grade = calculate_grade(percentage)\n",
    "\n",
    "        writer.writerow([row[0], row[1], chem, phy, math, f\"{percentage:.2f}\", grade])\n",
    "\n",
    "print(f\" New CSV file '{output_file}' created successfully with grades!\")\n"
   ]
  },
  {
   "cell_type": "code",
   "execution_count": null,
   "id": "8454a388-4e7e-4d40-9a31-a4ca493d6bf7",
   "metadata": {},
   "outputs": [],
   "source": []
  }
 ],
 "metadata": {
  "kernelspec": {
   "display_name": "Python 3 (ipykernel)",
   "language": "python",
   "name": "python3"
  },
  "language_info": {
   "codemirror_mode": {
    "name": "ipython",
    "version": 3
   },
   "file_extension": ".py",
   "mimetype": "text/x-python",
   "name": "python",
   "nbconvert_exporter": "python",
   "pygments_lexer": "ipython3",
   "version": "3.13.5"
  }
 },
 "nbformat": 4,
 "nbformat_minor": 5
}
