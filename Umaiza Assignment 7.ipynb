{
 "cells": [
  {
   "cell_type": "markdown",
   "id": "ce724d93-8f13-4293-9c50-ef0514adab8c",
   "metadata": {},
   "source": [
    "Question 1:\n",
    "\n",
    "Write a Python program that prints numbers from 1 to 20, but skips all even numbers.\n",
    "\n",
    "Use a while loop.\n",
    "\n",
    "Use the continue statement\n",
    "\n",
    "The numbers should be printed on the same line separated by spaces.\n",
    "\n",
    "Expected Output:\n",
    "\n",
    "1 3 5 7 9 11 13 15 17 19"
   ]
  },
  {
   "cell_type": "code",
   "execution_count": 3,
   "id": "6b6d0dcb-0174-4e4a-a8c8-4068b5aadcfb",
   "metadata": {},
   "outputs": [
    {
     "name": "stdout",
     "output_type": "stream",
     "text": [
      "1 3 5 7 9 11 13 15 17 19 "
     ]
    }
   ],
   "source": [
    "num = 1\n",
    "\n",
    "while num <= 20:\n",
    "    if num % 2 == 0:\n",
    "        num += 1\n",
    "        continue\n",
    "    print(num, end=\" \")\n",
    "    num += 1"
   ]
  },
  {
   "cell_type": "markdown",
   "id": "b431d0dc-6c6b-4dca-9fc5-f3bba2af76af",
   "metadata": {},
   "source": [
    "Question 2:\n",
    "\n",
    "Write a Python program that keeps asking the user to enter numbers and prints them.\n",
    "\n",
    "The program should stop the loop if the user enters a negative number.\n",
    "\n",
    "Use a while True loop with a break statement\n",
    "\n",
    "Expected Output:\n",
    "\n",
    "Enter a number (negative to stop): 5\n",
    "\n",
    "You entered: 5\n",
    "\n",
    "Enter a number (negative to stop): 10\n",
    "\n",
    "You entered: 10\n",
    "\n",
    "Enter a number (negative to stop): -3\n",
    "\n",
    "Negative number entered. Loop stopped!\n"
   ]
  },
  {
   "cell_type": "code",
   "execution_count": 4,
   "id": "1c83f3f2-3461-4e28-ab19-7f5657a3d7c0",
   "metadata": {},
   "outputs": [
    {
     "name": "stdin",
     "output_type": "stream",
     "text": [
      "Enter a number (negative to stop):  5\n"
     ]
    },
    {
     "name": "stdout",
     "output_type": "stream",
     "text": [
      "You entered: 5\n"
     ]
    },
    {
     "name": "stdin",
     "output_type": "stream",
     "text": [
      "Enter a number (negative to stop):  10\n"
     ]
    },
    {
     "name": "stdout",
     "output_type": "stream",
     "text": [
      "You entered: 10\n"
     ]
    },
    {
     "name": "stdin",
     "output_type": "stream",
     "text": [
      "Enter a number (negative to stop):  -3\n"
     ]
    },
    {
     "name": "stdout",
     "output_type": "stream",
     "text": [
      "Negative number entered. Loop stopped!\n"
     ]
    }
   ],
   "source": [
    "while True:\n",
    "    num = int(input(\"Enter a number (negative to stop): \"))\n",
    "    \n",
    "    if num < 0:\n",
    "        print(\"Negative number entered. Loop stopped!\")\n",
    "        break\n",
    "    \n",
    "    print(\"You entered:\", num)\n"
   ]
  },
  {
   "cell_type": "markdown",
   "id": "67b2a90d-44f0-4966-b239-e969c9757206",
   "metadata": {},
   "source": [
    "Question 3:\n",
    "\n",
    "\n",
    "Write a Python program that asks the user to guess a secret word.\n",
    "\n",
    "Keep asking until the user enters the correct word (\"python\").\n",
    "\n",
    "When guessed correctly, print \"🎉 You guessed it!\"\n",
    "\n",
    "Expected Output:\n",
    "\n",
    "Guess the word: java\n",
    "\n",
    "Guess the word: ruby\n",
    "\n",
    "Guess the word: python\n",
    "\n",
    "🎉 You guessed it!"
   ]
  },
  {
   "cell_type": "code",
   "execution_count": 12,
   "id": "5a0590e0-5b7d-4920-b2cb-4dace838896b",
   "metadata": {},
   "outputs": [
    {
     "name": "stdin",
     "output_type": "stream",
     "text": [
      "Guess the word:  python\n"
     ]
    },
    {
     "name": "stdout",
     "output_type": "stream",
     "text": [
      "You guessed it!\n"
     ]
    }
   ],
   "source": [
    "secret = \"python\"\n",
    "while True:\n",
    "    guess= input (\"Guess the word: \")\n",
    "    \n",
    "    if guess == secret:\n",
    "     print(\"You guessed it!\")\n",
    "    break\n",
    "\n"
   ]
  },
  {
   "cell_type": "markdown",
   "id": "ea22d55c-4267-4244-bda3-e93d8988216f",
   "metadata": {},
   "source": [
    "Question 4:\n",
    "\n",
    "orders = [\n",
    "    {\"order_id\": 1, \"customer\": \"Ali\", \"items\": [120, 80, 50]},\n",
    "    {\"order_id\": 2, \"customer\": \"Sara\", \"items\": [200, 150]},\n",
    "    {\"order_id\": 3, \"customer\": \"Raheel\", \"items\": [90, 60, 40, 30]},\n",
    "    {\"order_id\": 4, \"customer\": \"Naveed\", \"items\": [300]},\n",
    "]\n",
    "\n",
    "You are given a list of e-commerce orders. Each order has:\n",
    "\n",
    "an order ID\n",
    "\n",
    "a customer name\n",
    "\n",
    "a list of items with prices\n",
    "\n",
    "Write a Python program to print all items for each order using nested while loops.\n",
    "\n",
    "Expected Output:\n",
    "\n",
    "Order ID: 1 Customer: Ali\n",
    "\n",
    " Item Price: 120\n",
    " \n",
    " Item Price: 80\n",
    " \n",
    " Item Price: 50\n",
    "\n",
    "Order ID: 2 Customer: Sara\n",
    "\n",
    " Item Price: 200\n",
    " \n",
    " Item Price: 150\n",
    "\n",
    "Order ID: 3 Customer: Raheel\n",
    "\n",
    " Item Price: 90\n",
    " \n",
    " Item Price: 60\n",
    " \n",
    " Item Price: 40\n",
    " \n",
    " Item Price: 30\n",
    "\n",
    "Order ID: 4 Customer: Naveed\n",
    "\n",
    " Item Price: 300\n",
    " "
   ]
  },
  {
   "cell_type": "code",
   "execution_count": 15,
   "id": "26cf12ab-2bc4-4f3c-8608-2e831d333045",
   "metadata": {},
   "outputs": [
    {
     "name": "stdout",
     "output_type": "stream",
     "text": [
      "Order ID: 1 Customer: Ali\n",
      " Item Price: 120\n",
      " Item Price: 80\n",
      " Item Price: 50\n",
      "\n",
      "Order ID: 2 Customer: Sara\n",
      " Item Price: 200\n",
      " Item Price: 150\n",
      "\n",
      "Order ID: 3 Customer: Raheel\n",
      " Item Price: 90\n",
      " Item Price: 60\n",
      " Item Price: 40\n",
      " Item Price: 30\n",
      "\n",
      "Order ID: 4 Customer: Naveed\n",
      " Item Price: 300\n",
      "\n"
     ]
    }
   ],
   "source": [
    "orders = [\n",
    "    {\"order_id\": 1, \"customer\": \"Ali\", \"items\": [120, 80, 50]},\n",
    "    {\"order_id\": 2, \"customer\": \"Sara\", \"items\": [200, 150]},\n",
    "    {\"order_id\": 3, \"customer\": \"Raheel\", \"items\": [90, 60, 40, 30]},\n",
    "    {\"order_id\": 4, \"customer\": \"Naveed\", \"items\": [300]},\n",
    "]\n",
    "i = 0\n",
    "while i < len(orders):\n",
    "    order = orders[i]\n",
    "    print(\"Order ID:\", order[\"order_id\"], \"Customer:\", order[\"customer\"])\n",
    "    \n",
    "    j = 0\n",
    "    while j < len(order[\"items\"]):\n",
    "        print(\" Item Price:\", order[\"items\"][j])\n",
    "        j += 1\n",
    "    \n",
    "    print()\n",
    "    i += 1"
   ]
  },
  {
   "cell_type": "markdown",
   "id": "f7c2bbae-9a3d-454a-9ae7-bf81a77f66a1",
   "metadata": {},
   "source": [
    "Question 5:\n",
    "\n",
    "Print total amount spent by each customer (Using nested while loop)\n",
    "\n",
    "orders = [\n",
    "    {\"order_id\": 1, \"customer\": \"Ali\", \"items\": [120, 80, 50]},\n",
    "    {\"order_id\": 2, \"customer\": \"Sara\", \"items\": [200, 150]},\n",
    "    {\"order_id\": 3, \"customer\": \"Raheel\", \"items\": [90, 60, 40, 30]},\n",
    "    {\"order_id\": 4, \"customer\": \"Naveed\", \"items\": [300]},\n",
    "]\n",
    "\n",
    "Expected Output:\n",
    "\n",
    "Ali spent total: 250\n",
    "\n",
    "Sara spent total: 350\n",
    "\n",
    "Raheel spent total: 220\n",
    "\n",
    "Naveed spent total: 300"
   ]
  },
  {
   "cell_type": "code",
   "execution_count": 16,
   "id": "539f3920-28fb-4aca-af79-1d28b8eec514",
   "metadata": {},
   "outputs": [
    {
     "name": "stdout",
     "output_type": "stream",
     "text": [
      "Ali spent total: 250\n",
      "Sara spent total: 350\n",
      "Raheel spent total: 220\n",
      "Naveed spent total: 300\n"
     ]
    }
   ],
   "source": [
    "orders = [\n",
    "    {\"order_id\": 1, \"customer\": \"Ali\", \"items\": [120, 80, 50]},\n",
    "    {\"order_id\": 2, \"customer\": \"Sara\", \"items\": [200, 150]},\n",
    "    {\"order_id\": 3, \"customer\": \"Raheel\", \"items\": [90, 60, 40, 30]},\n",
    "    {\"order_id\": 4, \"customer\": \"Naveed\", \"items\": [300]},\n",
    "]\n",
    "\n",
    "i = 0\n",
    "while i < len(orders):\n",
    "    order = orders[i]\n",
    "    total = 0\n",
    "\n",
    "    j = 0\n",
    "    while j < len(order[\"items\"]):\n",
    "        total += order[\"items\"][j]\n",
    "        j += 1\n",
    "\n",
    "    print(order[\"customer\"], \"spent total:\", total)\n",
    "    i += 1"
   ]
  },
  {
   "cell_type": "markdown",
   "id": "9df85479-cd55-4385-90aa-19b0ecc04bcc",
   "metadata": {},
   "source": [
    "Question 6:\n",
    "\n",
    "Print the maximum item price for each order. (Using nested while loop)\n",
    "\n",
    "orders = [ {\"order_id\": 1, \"customer\": \"Ali\", \"items\": [120, 80, 50]}, {\"order_id\": 2, \"customer\": \"Sara\", \"items\": [200, 150]}, {\"order_id\": 3, \"customer\": \"Raheel\", \"items\": [90, 60, 40, 30]}, {\"order_id\": 4, \"customer\": \"Naveed\", \"items\": [300]}, ]\n",
    "\n",
    "Expected Output:\n",
    "\n",
    "Most expensive item in Order 1 = 120\n",
    "\n",
    "Most expensive item in Order 2 = 200\n",
    "\n",
    "Most expensive item in Order 3 = 90\n",
    "\n",
    "Most expensive item in Order 4 = 300"
   ]
  },
  {
   "cell_type": "code",
   "execution_count": 17,
   "id": "b17bd893-7e22-47db-9177-3f3e0cbed934",
   "metadata": {},
   "outputs": [
    {
     "name": "stdout",
     "output_type": "stream",
     "text": [
      "Most expensive item in Order 1 = 120\n",
      "Most expensive item in Order 2 = 200\n",
      "Most expensive item in Order 3 = 90\n",
      "Most expensive item in Order 4 = 300\n"
     ]
    }
   ],
   "source": [
    "orders = [\n",
    "    {\"order_id\": 1, \"customer\": \"Ali\", \"items\": [120, 80, 50]},\n",
    "    {\"order_id\": 2, \"customer\": \"Sara\", \"items\": [200, 150]},\n",
    "    {\"order_id\": 3, \"customer\": \"Raheel\", \"items\": [90, 60, 40, 30]},\n",
    "    {\"order_id\": 4, \"customer\": \"Naveed\", \"items\": [300]},\n",
    "]\n",
    "\n",
    "i = 0\n",
    "while i < len(orders):\n",
    "    order = orders[i]\n",
    "    j = 0\n",
    "    max_price = order[\"items\"][0]\n",
    "\n",
    "    while j < len(order[\"items\"]):\n",
    "        if order[\"items\"][j] > max_price:\n",
    "            max_price = order[\"items\"][j]\n",
    "        j += 1\n",
    "\n",
    "    print(f\"Most expensive item in Order {order['order_id']} = {max_price}\")\n",
    "    i += 1"
   ]
  },
  {
   "cell_type": "markdown",
   "id": "937da036-8d3c-4ea7-a673-09b22d804e90",
   "metadata": {},
   "source": [
    "Question 7:\n",
    "\n",
    "Write a Python program to create a single list (list comprehension) that contains all numbers from 1 to 50 which are multiples of 5 and 10.\n",
    "\n",
    "Expected Output:\n",
    "\n",
    "Multiples of 5 and 10 from 1 to 50: [10, 20, 30, 40, 50]\n"
   ]
  },
  {
   "cell_type": "code",
   "execution_count": 18,
   "id": "47f66894-c18f-43fb-a247-0f36ba96a7f0",
   "metadata": {},
   "outputs": [
    {
     "name": "stdout",
     "output_type": "stream",
     "text": [
      "Multiples of 5 and 10 from 1 to 50: [10, 20, 30, 40, 50]\n"
     ]
    }
   ],
   "source": [
    "multiples = [num for num in range(1, 51) if num % 5 == 0 and num % 10 == 0]\n",
    "print(\"Multiples of 5 and 10 from 1 to 50:\", multiples)"
   ]
  },
  {
   "cell_type": "markdown",
   "id": "30e197b2-1fde-4ea1-81dd-078ea3c45379",
   "metadata": {},
   "source": [
    "Question 8:\n",
    "\n",
    "employees = [\n",
    "    {\"emp_id\": 1, \"name\": \"Ali\", \"dept\": \"Sales\", \"salary\": 50000, \"experience\": 2},\n",
    "    {\"emp_id\": 2, \"name\": \"Sara\", \"dept\": \"IT\", \"salary\": 65000, \"experience\": 5},\n",
    "    {\"emp_id\": 3, \"name\": \"Raheel\", \"dept\": \"HR\", \"salary\": 45000, \"experience\": 1},\n",
    "    {\"emp_id\": 4, \"name\": \"Naveed\", \"dept\": \"Finance\", \"salary\": 70000, \"experience\": 7},\n",
    "    {\"emp_id\": 5, \"name\": \"Ayesha\", \"dept\": \"IT\", \"salary\": 72000, \"experience\": 6},\n",
    "    {\"emp_id\": 6, \"name\": \"Talha\", \"dept\": \"Sales\", \"salary\": 55000, \"experience\": 3},\n",
    "    {\"emp_id\": 7, \"name\": \"Sana\", \"dept\": \"Finance\", \"salary\": 80000, \"experience\": 8},\n",
    "    {\"emp_id\": 8, \"name\": \"Hina\", \"dept\": \"HR\", \"salary\": 48000, \"experience\": 2},\n",
    "]\n",
    "\n",
    "Using List Comprehension\n",
    "\n",
    "Employees with salary > 60,000 AND experience > 5 years\n",
    "\n",
    "Expected Output:\n",
    "['Naveed', 'Ayesha', 'Sana']\n"
   ]
  },
  {
   "cell_type": "code",
   "execution_count": 20,
   "id": "91f04c78-f10d-49ee-b67a-7168044f0943",
   "metadata": {},
   "outputs": [
    {
     "name": "stdout",
     "output_type": "stream",
     "text": [
      "['Naveed', 'Ayesha', 'Sana']\n"
     ]
    }
   ],
   "source": [
    "employees = [\n",
    "    {\"emp_id\": 1, \"name\": \"Ali\", \"dept\": \"Sales\", \"salary\": 50000, \"experience\": 2},\n",
    "    {\"emp_id\": 2, \"name\": \"Sara\", \"dept\": \"IT\", \"salary\": 65000, \"experience\": 5},\n",
    "    {\"emp_id\": 3, \"name\": \"Raheel\", \"dept\": \"HR\", \"salary\": 45000, \"experience\": 1},\n",
    "    {\"emp_id\": 4, \"name\": \"Naveed\", \"dept\": \"Finance\", \"salary\": 70000, \"experience\": 7},\n",
    "    {\"emp_id\": 5, \"name\": \"Ayesha\", \"dept\": \"IT\", \"salary\": 72000, \"experience\": 6},\n",
    "    {\"emp_id\": 6, \"name\": \"Talha\", \"dept\": \"Sales\", \"salary\": 55000, \"experience\": 3},\n",
    "    {\"emp_id\": 7, \"name\": \"Sana\", \"dept\": \"Finance\", \"salary\": 80000, \"experience\": 8},\n",
    "    {\"emp_id\": 8, \"name\": \"Hina\", \"dept\": \"HR\", \"salary\": 48000, \"experience\": 2},\n",
    "]\n",
    "\n",
    "high_paid_experienced = [emp[\"name\"] for emp in employees if emp[\"salary\"] > 60000 and emp[\"experience\"] > 5]\n",
    "\n",
    "print(high_paid_experienced)"
   ]
  },
  {
   "cell_type": "markdown",
   "id": "272760fb-2e38-40c4-a02a-9ef737ef1480",
   "metadata": {},
   "source": [
    "Question 9:\n",
    "\n",
    "Employees with NOT HR department\n",
    "\n",
    "Expected Output:\n",
    "['Ali', 'Sara', 'Naveed', 'Ayesha', 'Talha', 'Sana']\n"
   ]
  },
  {
   "cell_type": "code",
   "execution_count": 2,
   "id": "18b9322c-42e8-4444-b3c1-cd035800cba9",
   "metadata": {},
   "outputs": [
    {
     "name": "stdout",
     "output_type": "stream",
     "text": [
      "['Ali', 'Sara', 'Naveed', 'Ayesha', 'Talha', 'Sana']\n"
     ]
    }
   ],
   "source": [
    "employees = [\n",
    "    {\"emp_id\": 1, \"name\": \"Ali\", \"dept\": \"Sales\", \"salary\": 50000, \"experience\": 2},\n",
    "    {\"emp_id\": 2, \"name\": \"Sara\", \"dept\": \"IT\", \"salary\": 65000, \"experience\": 5},\n",
    "    {\"emp_id\": 3, \"name\": \"Raheel\", \"dept\": \"HR\", \"salary\": 45000, \"experience\": 1},\n",
    "    {\"emp_id\": 4, \"name\": \"Naveed\", \"dept\": \"Finance\", \"salary\": 70000, \"experience\": 7},\n",
    "    {\"emp_id\": 5, \"name\": \"Ayesha\", \"dept\": \"IT\", \"salary\": 72000, \"experience\": 6},\n",
    "    {\"emp_id\": 6, \"name\": \"Talha\", \"dept\": \"Sales\", \"salary\": 55000, \"experience\": 3},\n",
    "    {\"emp_id\": 7, \"name\": \"Sana\", \"dept\": \"Finance\", \"salary\": 80000, \"experience\": 8},\n",
    "    {\"emp_id\": 8, \"name\": \"Hina\", \"dept\": \"HR\", \"salary\": 48000, \"experience\": 2},\n",
    "]\n",
    "not_hr = [emp[\"name\"] for emp in employees if emp[\"dept\"] != \"HR\"]\n",
    "print(not_hr)"
   ]
  },
  {
   "cell_type": "markdown",
   "id": "b341fff9-a6ca-43ce-bfb8-811418a3d212",
   "metadata": {},
   "source": [
    "Question 10:\n",
    "\n",
    "Employees NOT in Sales OR experience > 5\n",
    "\n",
    "Expected Output:\n",
    "['Sara', 'Raheel', 'Naveed', 'Ayesha', 'Sana', 'Hina']\n"
   ]
  },
  {
   "cell_type": "code",
   "execution_count": 3,
   "id": "4856cf4c-2141-4698-bb59-0b748b0b7034",
   "metadata": {},
   "outputs": [
    {
     "name": "stdout",
     "output_type": "stream",
     "text": [
      "['Sara', 'Raheel', 'Naveed', 'Ayesha', 'Sana', 'Hina']\n"
     ]
    }
   ],
   "source": [
    "result = [emp[\"name\"] for emp in employees if emp[\"dept\"] != \"Sales\" or emp[\"experience\"] > 5]\n",
    "print(result)"
   ]
  },
  {
   "cell_type": "code",
   "execution_count": null,
   "id": "3924e399-7ce5-49dd-9765-4c9d25b6390d",
   "metadata": {},
   "outputs": [],
   "source": []
  }
 ],
 "metadata": {
  "kernelspec": {
   "display_name": "Python 3 (ipykernel)",
   "language": "python",
   "name": "python3"
  },
  "language_info": {
   "codemirror_mode": {
    "name": "ipython",
    "version": 3
   },
   "file_extension": ".py",
   "mimetype": "text/x-python",
   "name": "python",
   "nbconvert_exporter": "python",
   "pygments_lexer": "ipython3",
   "version": "3.13.5"
  }
 },
 "nbformat": 4,
 "nbformat_minor": 5
}
