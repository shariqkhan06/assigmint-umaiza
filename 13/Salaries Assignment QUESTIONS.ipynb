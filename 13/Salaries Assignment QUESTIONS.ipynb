{
 "cells": [
  {
   "cell_type": "markdown",
   "id": "2fca58d3-62c2-4219-9860-588be5acb4fc",
   "metadata": {},
   "source": [
    "Drop rows where EmployeeName and JobTitle are 'Not provided'"
   ]
  },
  {
   "cell_type": "markdown",
   "id": "63db7ac4-bc9e-4e3d-b949-60ec836b9f59",
   "metadata": {},
   "source": [
    "Replace 'Not Provided' with 0 in BasePay OvertimePay\tOtherPay\tBenefits"
   ]
  },
  {
   "cell_type": "markdown",
   "id": "2f1d18da-e0dd-4160-8f17-d840fe1fdbbc",
   "metadata": {},
   "source": [
    "Change BasePay\tOvertimePay\tOtherPay\tBenefits type to float"
   ]
  },
  {
   "cell_type": "markdown",
   "id": "bf38b446-e36f-4e57-a8d0-e1ef1d78b214",
   "metadata": {},
   "source": [
    "Display all employees name and basepay columns who have a BasePay greater than 200,000."
   ]
  },
  {
   "cell_type": "markdown",
   "id": "a4d6a754-7aa4-4f97-bd10-f0624c4d7821",
   "metadata": {},
   "source": [
    "Find all employees whose JobTitle contains the word “Manager” (case = False)"
   ]
  },
  {
   "cell_type": "markdown",
   "id": "dacfbacb-4884-4f5a-9825-73f9b4319053",
   "metadata": {},
   "source": [
    "Retrieve only the columns: EmployeeName, JobTitle, and TotalPay."
   ]
  },
  {
   "cell_type": "markdown",
   "id": "4d85b7dc-3cde-47d7-8808-8a037de8a8fb",
   "metadata": {},
   "source": [
    "Find count of employees who have zero OvertimePay."
   ]
  },
  {
   "cell_type": "markdown",
   "id": "547d0284-01bc-4874-aa6a-ec1f03350bd2",
   "metadata": {},
   "source": [
    "Calculate the TotalPay for each JobTitle where totalpay > 300000"
   ]
  },
  {
   "cell_type": "markdown",
   "id": "6800a5b5-ec93-4155-94db-d41135bd25e2",
   "metadata": {},
   "source": [
    "Find the top 5 JobTitles with the highest average TotalPayBenefits show in descending order"
   ]
  },
  {
   "cell_type": "markdown",
   "id": "3318e63b-8ed5-4b43-be30-b352b9f36c81",
   "metadata": {},
   "source": [
    "Replace all missing Benefits values with 0"
   ]
  },
  {
   "cell_type": "markdown",
   "id": "f50e6f4f-cb7d-40e9-8ab6-3c9f90b1a073",
   "metadata": {},
   "source": [
    "Identify the top employee name by TotalPay in each Year. Show year, employeename and totalpay dataframe"
   ]
  },
  {
   "cell_type": "markdown",
   "id": "6f0139fd-4696-4a3c-87c3-9efda7d55b2b",
   "metadata": {},
   "source": [
    "Find the number of employees per JobTitle."
   ]
  },
  {
   "cell_type": "code",
   "execution_count": 3,
   "id": "afd711dc-bd58-4f16-bf09-a5539c1cc179",
   "metadata": {},
   "outputs": [],
   "source": [
    "import pandas as pd\n",
    "import numpy as np\n",
    "import warnings\n",
    "warnings.filterwarnings('ignore')"
   ]
  },
  {
   "cell_type": "code",
   "execution_count": 4,
   "id": "6543f9b4-8c40-47a9-8349-762086a29100",
   "metadata": {},
   "outputs": [
    {
     "data": {
      "text/html": [
       "<div>\n",
       "<style scoped>\n",
       "    .dataframe tbody tr th:only-of-type {\n",
       "        vertical-align: middle;\n",
       "    }\n",
       "\n",
       "    .dataframe tbody tr th {\n",
       "        vertical-align: top;\n",
       "    }\n",
       "\n",
       "    .dataframe thead th {\n",
       "        text-align: right;\n",
       "    }\n",
       "</style>\n",
       "<table border=\"1\" class=\"dataframe\">\n",
       "  <thead>\n",
       "    <tr style=\"text-align: right;\">\n",
       "      <th></th>\n",
       "      <th>Id</th>\n",
       "      <th>EmployeeName</th>\n",
       "      <th>JobTitle</th>\n",
       "      <th>BasePay</th>\n",
       "      <th>OvertimePay</th>\n",
       "      <th>OtherPay</th>\n",
       "      <th>Benefits</th>\n",
       "      <th>TotalPay</th>\n",
       "      <th>TotalPayBenefits</th>\n",
       "      <th>Year</th>\n",
       "      <th>Notes</th>\n",
       "      <th>Agency</th>\n",
       "      <th>Status</th>\n",
       "    </tr>\n",
       "  </thead>\n",
       "  <tbody>\n",
       "    <tr>\n",
       "      <th>0</th>\n",
       "      <td>1</td>\n",
       "      <td>NATHANIEL FORD</td>\n",
       "      <td>GENERAL MANAGER-METROPOLITAN TRANSIT AUTHORITY</td>\n",
       "      <td>167411.18</td>\n",
       "      <td>0.0</td>\n",
       "      <td>400184.25</td>\n",
       "      <td>NaN</td>\n",
       "      <td>567595.43</td>\n",
       "      <td>567595.43</td>\n",
       "      <td>2011</td>\n",
       "      <td>NaN</td>\n",
       "      <td>San Francisco</td>\n",
       "      <td>NaN</td>\n",
       "    </tr>\n",
       "    <tr>\n",
       "      <th>1</th>\n",
       "      <td>2</td>\n",
       "      <td>GARY JIMENEZ</td>\n",
       "      <td>CAPTAIN III (POLICE DEPARTMENT)</td>\n",
       "      <td>155966.02</td>\n",
       "      <td>245131.88</td>\n",
       "      <td>137811.38</td>\n",
       "      <td>NaN</td>\n",
       "      <td>538909.28</td>\n",
       "      <td>538909.28</td>\n",
       "      <td>2011</td>\n",
       "      <td>NaN</td>\n",
       "      <td>San Francisco</td>\n",
       "      <td>NaN</td>\n",
       "    </tr>\n",
       "    <tr>\n",
       "      <th>2</th>\n",
       "      <td>3</td>\n",
       "      <td>ALBERT PARDINI</td>\n",
       "      <td>CAPTAIN III (POLICE DEPARTMENT)</td>\n",
       "      <td>212739.13</td>\n",
       "      <td>106088.18</td>\n",
       "      <td>16452.6</td>\n",
       "      <td>NaN</td>\n",
       "      <td>335279.91</td>\n",
       "      <td>335279.91</td>\n",
       "      <td>2011</td>\n",
       "      <td>NaN</td>\n",
       "      <td>San Francisco</td>\n",
       "      <td>NaN</td>\n",
       "    </tr>\n",
       "    <tr>\n",
       "      <th>3</th>\n",
       "      <td>4</td>\n",
       "      <td>CHRISTOPHER CHONG</td>\n",
       "      <td>WIRE ROPE CABLE MAINTENANCE MECHANIC</td>\n",
       "      <td>77916.0</td>\n",
       "      <td>56120.71</td>\n",
       "      <td>198306.9</td>\n",
       "      <td>NaN</td>\n",
       "      <td>332343.61</td>\n",
       "      <td>332343.61</td>\n",
       "      <td>2011</td>\n",
       "      <td>NaN</td>\n",
       "      <td>San Francisco</td>\n",
       "      <td>NaN</td>\n",
       "    </tr>\n",
       "    <tr>\n",
       "      <th>4</th>\n",
       "      <td>5</td>\n",
       "      <td>PATRICK GARDNER</td>\n",
       "      <td>DEPUTY CHIEF OF DEPARTMENT,(FIRE DEPARTMENT)</td>\n",
       "      <td>134401.6</td>\n",
       "      <td>9737.0</td>\n",
       "      <td>182234.59</td>\n",
       "      <td>NaN</td>\n",
       "      <td>326373.19</td>\n",
       "      <td>326373.19</td>\n",
       "      <td>2011</td>\n",
       "      <td>NaN</td>\n",
       "      <td>San Francisco</td>\n",
       "      <td>NaN</td>\n",
       "    </tr>\n",
       "    <tr>\n",
       "      <th>...</th>\n",
       "      <td>...</td>\n",
       "      <td>...</td>\n",
       "      <td>...</td>\n",
       "      <td>...</td>\n",
       "      <td>...</td>\n",
       "      <td>...</td>\n",
       "      <td>...</td>\n",
       "      <td>...</td>\n",
       "      <td>...</td>\n",
       "      <td>...</td>\n",
       "      <td>...</td>\n",
       "      <td>...</td>\n",
       "      <td>...</td>\n",
       "    </tr>\n",
       "    <tr>\n",
       "      <th>148649</th>\n",
       "      <td>148650</td>\n",
       "      <td>Roy I Tillery</td>\n",
       "      <td>Custodian</td>\n",
       "      <td>0.00</td>\n",
       "      <td>0.00</td>\n",
       "      <td>0.00</td>\n",
       "      <td>0.00</td>\n",
       "      <td>0.00</td>\n",
       "      <td>0.00</td>\n",
       "      <td>2014</td>\n",
       "      <td>NaN</td>\n",
       "      <td>San Francisco</td>\n",
       "      <td>PT</td>\n",
       "    </tr>\n",
       "    <tr>\n",
       "      <th>148650</th>\n",
       "      <td>148651</td>\n",
       "      <td>Not provided</td>\n",
       "      <td>Not provided</td>\n",
       "      <td>Not Provided</td>\n",
       "      <td>Not Provided</td>\n",
       "      <td>Not Provided</td>\n",
       "      <td>Not Provided</td>\n",
       "      <td>0.00</td>\n",
       "      <td>0.00</td>\n",
       "      <td>2014</td>\n",
       "      <td>NaN</td>\n",
       "      <td>San Francisco</td>\n",
       "      <td>NaN</td>\n",
       "    </tr>\n",
       "    <tr>\n",
       "      <th>148651</th>\n",
       "      <td>148652</td>\n",
       "      <td>Not provided</td>\n",
       "      <td>Not provided</td>\n",
       "      <td>Not Provided</td>\n",
       "      <td>Not Provided</td>\n",
       "      <td>Not Provided</td>\n",
       "      <td>Not Provided</td>\n",
       "      <td>0.00</td>\n",
       "      <td>0.00</td>\n",
       "      <td>2014</td>\n",
       "      <td>NaN</td>\n",
       "      <td>San Francisco</td>\n",
       "      <td>NaN</td>\n",
       "    </tr>\n",
       "    <tr>\n",
       "      <th>148652</th>\n",
       "      <td>148653</td>\n",
       "      <td>Not provided</td>\n",
       "      <td>Not provided</td>\n",
       "      <td>Not Provided</td>\n",
       "      <td>Not Provided</td>\n",
       "      <td>Not Provided</td>\n",
       "      <td>Not Provided</td>\n",
       "      <td>0.00</td>\n",
       "      <td>0.00</td>\n",
       "      <td>2014</td>\n",
       "      <td>NaN</td>\n",
       "      <td>San Francisco</td>\n",
       "      <td>NaN</td>\n",
       "    </tr>\n",
       "    <tr>\n",
       "      <th>148653</th>\n",
       "      <td>148654</td>\n",
       "      <td>Joe Lopez</td>\n",
       "      <td>Counselor, Log Cabin Ranch</td>\n",
       "      <td>0.00</td>\n",
       "      <td>0.00</td>\n",
       "      <td>-618.13</td>\n",
       "      <td>0.00</td>\n",
       "      <td>-618.13</td>\n",
       "      <td>-618.13</td>\n",
       "      <td>2014</td>\n",
       "      <td>NaN</td>\n",
       "      <td>San Francisco</td>\n",
       "      <td>PT</td>\n",
       "    </tr>\n",
       "  </tbody>\n",
       "</table>\n",
       "<p>148654 rows × 13 columns</p>\n",
       "</div>"
      ],
      "text/plain": [
       "            Id       EmployeeName  \\\n",
       "0            1     NATHANIEL FORD   \n",
       "1            2       GARY JIMENEZ   \n",
       "2            3     ALBERT PARDINI   \n",
       "3            4  CHRISTOPHER CHONG   \n",
       "4            5    PATRICK GARDNER   \n",
       "...        ...                ...   \n",
       "148649  148650      Roy I Tillery   \n",
       "148650  148651       Not provided   \n",
       "148651  148652       Not provided   \n",
       "148652  148653       Not provided   \n",
       "148653  148654          Joe Lopez   \n",
       "\n",
       "                                              JobTitle       BasePay  \\\n",
       "0       GENERAL MANAGER-METROPOLITAN TRANSIT AUTHORITY     167411.18   \n",
       "1                      CAPTAIN III (POLICE DEPARTMENT)     155966.02   \n",
       "2                      CAPTAIN III (POLICE DEPARTMENT)     212739.13   \n",
       "3                 WIRE ROPE CABLE MAINTENANCE MECHANIC       77916.0   \n",
       "4         DEPUTY CHIEF OF DEPARTMENT,(FIRE DEPARTMENT)      134401.6   \n",
       "...                                                ...           ...   \n",
       "148649                                       Custodian          0.00   \n",
       "148650                                    Not provided  Not Provided   \n",
       "148651                                    Not provided  Not Provided   \n",
       "148652                                    Not provided  Not Provided   \n",
       "148653                      Counselor, Log Cabin Ranch          0.00   \n",
       "\n",
       "         OvertimePay      OtherPay      Benefits   TotalPay  TotalPayBenefits  \\\n",
       "0                0.0     400184.25           NaN  567595.43         567595.43   \n",
       "1          245131.88     137811.38           NaN  538909.28         538909.28   \n",
       "2          106088.18       16452.6           NaN  335279.91         335279.91   \n",
       "3           56120.71      198306.9           NaN  332343.61         332343.61   \n",
       "4             9737.0     182234.59           NaN  326373.19         326373.19   \n",
       "...              ...           ...           ...        ...               ...   \n",
       "148649          0.00          0.00          0.00       0.00              0.00   \n",
       "148650  Not Provided  Not Provided  Not Provided       0.00              0.00   \n",
       "148651  Not Provided  Not Provided  Not Provided       0.00              0.00   \n",
       "148652  Not Provided  Not Provided  Not Provided       0.00              0.00   \n",
       "148653          0.00       -618.13          0.00    -618.13           -618.13   \n",
       "\n",
       "        Year  Notes         Agency Status  \n",
       "0       2011    NaN  San Francisco    NaN  \n",
       "1       2011    NaN  San Francisco    NaN  \n",
       "2       2011    NaN  San Francisco    NaN  \n",
       "3       2011    NaN  San Francisco    NaN  \n",
       "4       2011    NaN  San Francisco    NaN  \n",
       "...      ...    ...            ...    ...  \n",
       "148649  2014    NaN  San Francisco     PT  \n",
       "148650  2014    NaN  San Francisco    NaN  \n",
       "148651  2014    NaN  San Francisco    NaN  \n",
       "148652  2014    NaN  San Francisco    NaN  \n",
       "148653  2014    NaN  San Francisco     PT  \n",
       "\n",
       "[148654 rows x 13 columns]"
      ]
     },
     "execution_count": 4,
     "metadata": {},
     "output_type": "execute_result"
    }
   ],
   "source": [
    "data = pd.read_csv(\"Salaries.csv\")\n",
    "data"
   ]
  },
  {
   "cell_type": "code",
   "execution_count": 34,
   "id": "c21153ba-f06e-4985-8318-a35fcbf50cd8",
   "metadata": {},
   "outputs": [
    {
     "name": "stdout",
     "output_type": "stream",
     "text": [
      "Done! Cleaned file saved as Salaries_Cleaned.csv\n"
     ]
    }
   ],
   "source": [
    "#1\n",
    "data = data[(data[\"EmployeeName\"] != \"Not provided\") & (data[\"JobTitle\"] != \"Not provided\")]\n",
    "data.to_csv(\"Salaries_Cleaned.csv\", index=False)\n",
    "print(\"Done! Cleaned file saved as Salaries_Cleaned.csv\")"
   ]
  },
  {
   "cell_type": "code",
   "execution_count": 35,
   "id": "1aa93f6e-dbd3-4bf7-916a-9bed19f31bfc",
   "metadata": {},
   "outputs": [],
   "source": [
    "#2\n",
    "columns_change = [\"BasePay\", \"OvertimePay\", \"OtherPay\", \"Benefits\"]\n",
    "data[columns_change] = data[columns_change].replace([\"Not provided\", \"Not Provided\"], 0)\n",
    "\n",
    "for col in columns_change:\n",
    "    data[col] = pd.to_numeric(data[col], errors=\"coerce\").fillna(0)\n",
    "data.to_csv(\"Salaries_Fixed.csv\", index=False)"
   ]
  },
  {
   "cell_type": "code",
   "execution_count": 36,
   "id": "9f07ad00-d8e9-4b32-a446-697e6158710b",
   "metadata": {},
   "outputs": [
    {
     "name": "stdout",
     "output_type": "stream",
     "text": [
      "Done! Replaced 'Not provided' with 0 and saved Salaries_Fixed.csv\n"
     ]
    }
   ],
   "source": [
    "print(\"Done! Replaced 'Not provided' with 0 and saved Salaries_Fixed.csv\")"
   ]
  },
  {
   "cell_type": "code",
   "execution_count": 37,
   "id": "2f43afb3-1c80-4292-88b8-fc6d12095b1e",
   "metadata": {},
   "outputs": [],
   "source": [
    "#3\n",
    "columns = [\"BasePay\", \"OvertimePay\", \"OtherPay\", \"Benefits\"]\n",
    "data[columns] = data[columns].replace([\"Not provided\", \"Not Provided\"], 0)\n",
    "\n",
    "for col in columns:\n",
    "    data[col] = data[col].astype(float)\n",
    "data.to_csv(\"Salaries_Float.csv\", index=False)"
   ]
  },
  {
   "cell_type": "code",
   "execution_count": 38,
   "id": "fd8b54a7-11f8-4834-9f67-64c4522a5ab3",
   "metadata": {},
   "outputs": [
    {
     "name": "stdout",
     "output_type": "stream",
     "text": [
      "Done! Columns changed to float and file saved as Salaries_Float.csv\n"
     ]
    }
   ],
   "source": [
    "print(\"Done! Columns changed to float and file saved as Salaries_Float.csv\")"
   ]
  },
  {
   "cell_type": "code",
   "execution_count": 39,
   "id": "1233c6d2-d005-4b06-849e-bfb3a7a5e2df",
   "metadata": {},
   "outputs": [],
   "source": [
    "#4\n",
    "data[\"BasePay\"] = pd.to_numeric(data[\"BasePay\"], errors=\"coerce\").fillna(0)\n",
    "high_pay = data[data[\"BasePay\"] > 200000]"
   ]
  },
  {
   "cell_type": "code",
   "execution_count": 40,
   "id": "df3d5cb3-f8dd-492a-b11c-bedd88cef4a6",
   "metadata": {},
   "outputs": [
    {
     "name": "stdout",
     "output_type": "stream",
     "text": [
      "              EmployeeName    BasePay\n",
      "2           ALBERT PARDINI  212739.13\n",
      "7            DAVID KUSHNER  256576.96\n",
      "9       JOANNE HAYES-WHITE  285262.00\n",
      "12       EDWARD HARRINGTON  294580.02\n",
      "13             JOHN MARTIN  271329.03\n",
      "...                    ...        ...\n",
      "110953      Ronald P Flynn  201296.01\n",
      "110954    Sheryl L Bregman  201296.00\n",
      "110976       Susan T Obata  202445.22\n",
      "110977       John O Funghi  201181.01\n",
      "111107       Mayra T Vivas  205036.00\n",
      "\n",
      "[509 rows x 2 columns]\n"
     ]
    }
   ],
   "source": [
    "print(high_pay[[\"EmployeeName\", \"BasePay\"]])"
   ]
  },
  {
   "cell_type": "code",
   "execution_count": 41,
   "id": "ee597ce0-b284-4cff-aba3-25bf8c37d56b",
   "metadata": {},
   "outputs": [
    {
     "name": "stdout",
     "output_type": "stream",
     "text": [
      "                EmployeeName                                        JobTitle\n",
      "0             NATHANIEL FORD  GENERAL MANAGER-METROPOLITAN TRANSIT AUTHORITY\n",
      "83            EDWARD REISKIN  GENERAL MANAGER-METROPOLITAN TRANSIT AUTHORITY\n",
      "87               KEVIN BARRY                                     MANAGER VII\n",
      "95              MIVIC HIROSE                                    MANAGER VIII\n",
      "162            JULIE LABONTE                                    MANAGER VIII\n",
      "...                      ...                                             ...\n",
      "147216  Steven D Koneffklatt                                     Manager III\n",
      "147502    Alice B Villagomez                                      Manager IV\n",
      "147805    Stephen C Laplante                                      Manager II\n",
      "148150      Shirley M Parker                           Real Property Manager\n",
      "148475         James P Horan                                      Manager IV\n",
      "\n",
      "[4110 rows x 2 columns]\n"
     ]
    }
   ],
   "source": [
    "#5\n",
    "managers = data[data[\"JobTitle\"].str.contains(\"Manager\", case=False, na=False)]\n",
    "print(managers[[\"EmployeeName\", \"JobTitle\"]])"
   ]
  },
  {
   "cell_type": "code",
   "execution_count": 42,
   "id": "9c66921d-1b24-4b66-ab8c-136a24352251",
   "metadata": {},
   "outputs": [
    {
     "name": "stdout",
     "output_type": "stream",
     "text": [
      "             EmployeeName                                        JobTitle  \\\n",
      "0          NATHANIEL FORD  GENERAL MANAGER-METROPOLITAN TRANSIT AUTHORITY   \n",
      "1            GARY JIMENEZ                 CAPTAIN III (POLICE DEPARTMENT)   \n",
      "2          ALBERT PARDINI                 CAPTAIN III (POLICE DEPARTMENT)   \n",
      "3       CHRISTOPHER CHONG            WIRE ROPE CABLE MAINTENANCE MECHANIC   \n",
      "4         PATRICK GARDNER    DEPUTY CHIEF OF DEPARTMENT,(FIRE DEPARTMENT)   \n",
      "...                   ...                                             ...   \n",
      "148645   Carolyn A Wilson                       Human Services Technician   \n",
      "148647     Joann Anderson                     Communications Dispatcher 2   \n",
      "148648        Leon Walker                                       Custodian   \n",
      "148649      Roy I Tillery                                       Custodian   \n",
      "148653          Joe Lopez                      Counselor, Log Cabin Ranch   \n",
      "\n",
      "         TotalPay  \n",
      "0       567595.43  \n",
      "1       538909.28  \n",
      "2       335279.91  \n",
      "3       332343.61  \n",
      "4       326373.19  \n",
      "...           ...  \n",
      "148645       0.00  \n",
      "148647       0.00  \n",
      "148648       0.00  \n",
      "148649       0.00  \n",
      "148653    -618.13  \n",
      "\n",
      "[148650 rows x 3 columns]\n"
     ]
    }
   ],
   "source": [
    "#6\n",
    "selected = data[[\"EmployeeName\", \"JobTitle\", \"TotalPay\"]]\n",
    "print(selected)"
   ]
  },
  {
   "cell_type": "code",
   "execution_count": 43,
   "id": "9f529eb6-014f-43e3-aceb-59f10104a4e8",
   "metadata": {},
   "outputs": [
    {
     "name": "stdout",
     "output_type": "stream",
     "text": [
      "Number of employees with zero OvertimePay: 77321\n"
     ]
    }
   ],
   "source": [
    "#7\n",
    "data[\"OvertimePay\"] = pd.to_numeric(data[\"OvertimePay\"], errors=\"coerce\").fillna(0)\n",
    "count_zero = (data[\"OvertimePay\"] == 0).sum()\n",
    "print(\"Number of employees with zero OvertimePay:\", count_zero)"
   ]
  },
  {
   "cell_type": "code",
   "execution_count": 44,
   "id": "84af0df3-28aa-4827-b789-86cae610ad40",
   "metadata": {},
   "outputs": [],
   "source": [
    "#8\n",
    "data[\"TotalPay\"] = pd.to_numeric(data[\"TotalPay\"], errors=\"coerce\").fillna(0)\n",
    "high_pay = data[data[\"TotalPay\"] > 300000]\n",
    "result = high_pay.groupby(\"JobTitle\")[\"TotalPay\"].sum().reset_index()"
   ]
  },
  {
   "cell_type": "code",
   "execution_count": 45,
   "id": "e0d730df-484c-4f88-90a0-f09838512ebc",
   "metadata": {},
   "outputs": [
    {
     "name": "stdout",
     "output_type": "stream",
     "text": [
      "                                          JobTitle    TotalPay\n",
      "0                        ASSISTANT DEPUTY CHIEF II   316285.74\n",
      "1                         Assistant Deputy Chief 2   654066.15\n",
      "2                     Asst Chf of Dept (Fire Dept)  1303828.26\n",
      "3                                Asst Med Examiner  1069837.40\n",
      "4               BATTALION CHIEF, (FIRE DEPARTMENT)   619408.60\n",
      "5                   Battalion Chief, Fire Suppress  2845960.11\n",
      "6                   Battlion Chief, Fire Suppressi  1266054.40\n",
      "7                  CAPTAIN III (POLICE DEPARTMENT)   874189.19\n",
      "8           CHIEF OF DEPARTMENT, (FIRE DEPARTMENT)   302377.73\n",
      "9                                        Captain 3  1274613.48\n",
      "10                       Captain, Fire Suppression   610671.88\n",
      "11                        Chief Investment Officer   339653.70\n",
      "12                                 Chief of Police   987550.94\n",
      "13                          Chief, Fire Department   977915.05\n",
      "14                                     Commander 3   322143.10\n",
      "15    DEPUTY CHIEF OF DEPARTMENT,(FIRE DEPARTMENT)   326373.19\n",
      "16                  DEPUTY DIRECTOR OF INVESTMENTS   307899.46\n",
      "17                    Dep Dir for Investments, Ret   315572.01\n",
      "18                                     Dept Head V   927825.30\n",
      "19                                  Deputy Chief 3   471952.64\n",
      "20                                  Deputy Sheriff   308434.84\n",
      "21                       EMT/Paramedic/Firefighter   337204.86\n",
      "22                     Electronic Maintenance Tech   336393.73\n",
      "23                     Executive Contract Employee   623473.54\n",
      "24  GENERAL MANAGER-METROPOLITAN TRANSIT AUTHORITY   567595.43\n",
      "25                      Gen Mgr, Public Trnsp Dept   305307.89\n",
      "26                    Lieutenant, Fire Suppression   683220.45\n",
      "27                     Senior Physician Specialist   634537.20\n",
      "28            WIRE ROPE CABLE MAINTENANCE MECHANIC   332343.61\n"
     ]
    }
   ],
   "source": [
    "print(result)"
   ]
  },
  {
   "cell_type": "code",
   "execution_count": 49,
   "id": "1bbefb2c-e634-4d2c-a585-58ec907c703a",
   "metadata": {},
   "outputs": [],
   "source": [
    "#9\n",
    "data[\"TotalPayBenefits\"] = pd.to_numeric(data[\"TotalPayBenefits\"], errors=\"coerce\").fillna(0)\n",
    "high_avg = data.groupby(\"JobTitle\")[\"TotalPayBenefits\"].mean().reset_index()\n",
    "top_job_titles = high_avg.sort_values(by=\"TotalPayBenefits\", ascending=False).head(5)"
   ]
  },
  {
   "cell_type": "code",
   "execution_count": 50,
   "id": "5ecb1707-b0d2-4de8-a82e-1b6115d232c0",
   "metadata": {},
   "outputs": [
    {
     "name": "stdout",
     "output_type": "stream",
     "text": [
      "                                           JobTitle  TotalPayBenefits\n",
      "466                        Chief Investment Officer     436224.360000\n",
      "474                                 Chief of Police     411732.266667\n",
      "475                          Chief, Fire Department     408865.326667\n",
      "831  GENERAL MANAGER-METROPOLITAN TRANSIT AUTHORITY     399211.275000\n",
      "838                      Gen Mgr, Public Trnsp Dept     380696.440000\n"
     ]
    }
   ],
   "source": [
    "print(top_job_titles)"
   ]
  },
  {
   "cell_type": "code",
   "execution_count": 51,
   "id": "efed7c4a-da02-4c5e-ba67-1ce98a2c6d73",
   "metadata": {},
   "outputs": [],
   "source": [
    "data.to_csv(\"Salaries_BenefitsFixed.csv\", index=False)"
   ]
  },
  {
   "cell_type": "code",
   "execution_count": 52,
   "id": "496d4565-736a-4c9a-a6b3-ff63a8696ed4",
   "metadata": {},
   "outputs": [
    {
     "name": "stdout",
     "output_type": "stream",
     "text": [
      "Done! All missing Benefits values replaced with 0.\n"
     ]
    }
   ],
   "source": [
    "print(\"Done! All missing Benefits values replaced with 0.\")"
   ]
  },
  {
   "cell_type": "code",
   "execution_count": 53,
   "id": "822f40e5-e975-462c-ba81-4882da348ed2",
   "metadata": {},
   "outputs": [],
   "source": [
    "#11\n",
    "data[\"TotalPay\"] = pd.to_numeric(data[\"TotalPay\"], errors=\"coerce\").fillna(0)\n",
    "data = data.sort_values([\"Year\", \"TotalPay\"], ascending=[True, False])\n",
    "top_employees = data.groupby(\"Year\").first().reset_index()\n",
    "result = top_employees[[\"Year\", \"EmployeeName\", \"TotalPay\"]]"
   ]
  },
  {
   "cell_type": "code",
   "execution_count": 54,
   "id": "1cd0b30d-6a88-4474-a8d7-6209765b9cba",
   "metadata": {},
   "outputs": [
    {
     "name": "stdout",
     "output_type": "stream",
     "text": [
      "   Year    EmployeeName   TotalPay\n",
      "0  2011  NATHANIEL FORD  567595.43\n",
      "1  2012  Gary Altenberg  362844.66\n",
      "2  2013     Samson  Lai  347102.32\n",
      "3  2014     David Shinn  471952.64\n"
     ]
    }
   ],
   "source": [
    "print(result)"
   ]
  },
  {
   "cell_type": "code",
   "execution_count": 55,
   "id": "19a0b292-ecf3-4398-94b7-0cff96da0d10",
   "metadata": {},
   "outputs": [],
   "source": [
    "#12\n",
    "data = pd.read_csv(\"Salaries.csv\")\n",
    "employee_count = data[\"JobTitle\"].value_counts().reset_index()\n",
    "employee_count.columns = [\"JobTitle\", \"Number_of_Employees\"]"
   ]
  },
  {
   "cell_type": "code",
   "execution_count": 56,
   "id": "fa4bc852-dc15-4ec8-8da0-131c1749d6d9",
   "metadata": {},
   "outputs": [
    {
     "name": "stdout",
     "output_type": "stream",
     "text": [
      "                                            JobTitle  Number_of_Employees\n",
      "0                                   Transit Operator                 7036\n",
      "1                                      Special Nurse                 4389\n",
      "2                                   Registered Nurse                 3736\n",
      "3                       Public Svc Aide-Public Works                 2518\n",
      "4                                   Police Officer 3                 2421\n",
      "...                                              ...                  ...\n",
      "2154                         CHIEF HOUSING INSPECTOR                    1\n",
      "2155                         TRAFFIC SIGNAL OPERATOR                    1\n",
      "2156           COURT COMPUTER FACILITIES COORDINATOR                    1\n",
      "2157  AUTOMOTIVE BODY AND FENDER WORKER SUPERVISOR I                    1\n",
      "2158                     VICTIM & WITNESS TECHNICIAN                    1\n",
      "\n",
      "[2159 rows x 2 columns]\n"
     ]
    }
   ],
   "source": [
    "print(employee_count)"
   ]
  },
  {
   "cell_type": "code",
   "execution_count": null,
   "id": "1232bb58-fb3d-4368-a674-1fa10b66ffb3",
   "metadata": {},
   "outputs": [],
   "source": []
  }
 ],
 "metadata": {
  "kernelspec": {
   "display_name": "Python 3 (ipykernel)",
   "language": "python",
   "name": "python3"
  },
  "language_info": {
   "codemirror_mode": {
    "name": "ipython",
    "version": 3
   },
   "file_extension": ".py",
   "mimetype": "text/x-python",
   "name": "python",
   "nbconvert_exporter": "python",
   "pygments_lexer": "ipython3",
   "version": "3.13.5"
  }
 },
 "nbformat": 4,
 "nbformat_minor": 5
}
